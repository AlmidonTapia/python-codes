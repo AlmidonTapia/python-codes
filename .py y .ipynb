.pyes un archivo de python regular. Es texto sin formato y contiene solo su código.

.ipynbes un cuaderno de Python y contiene el código del cuaderno, los resultados de la ejecución y otras configuraciones internas en un formato específico. Simplemente puede ejecutar .ipynben el entorno jupyter.

Una mejor manera de entender la diferencia: abra cada archivo con un editor de texto normal como el bloc de notas (en Windows) o gedit (en Linux).

Guarde en git .ipynbsi desea mostrar los resultados de su script con fines didácticos, por ejemplo. Pero si va a ejecutar su código en un servidor, simplemente guarde el.py