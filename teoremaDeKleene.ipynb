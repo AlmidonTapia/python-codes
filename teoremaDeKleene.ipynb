{
 "cells": [
  {
   "cell_type": "code",
   "execution_count": 1,
   "metadata": {},
   "outputs": [
    {
     "name": "stdout",
     "output_type": "stream",
     "text": [
      "{'ab', 'aabb', 'abb', 'aab'}\n"
     ]
    }
   ],
   "source": [
    "def concatenacion(a, b):\n",
    "    \"\"\"\n",
    "    Realiza la concatenación de dos lenguajes utilizando el teorema de Kleene.\n",
    "\n",
    "        a (): El primer lenguaje representado como un conjunto de cadenas.\n",
    "        b (): El segundo lenguaje representado como un conjunto de cadenas.\n",
    "\n",
    "    Returns:\n",
    "        set: El lenguaje resultante de la concatenación de los dos lenguajes dados.\n",
    "    \"\"\"\n",
    "    concatenado = set()\n",
    "\n",
    "    for cadena_a in a:\n",
    "        for cadena_b in b:\n",
    "            concatenado.add(cadena_a + cadena_b)\n",
    "\n",
    "    return concatenado\n",
    "\n",
    "# Ejemplo de uso\n",
    "lenguaje_a = {\"a\", \"aa\"}\n",
    "lenguaje_b = {\"b\", \"bb\"}\n",
    "\n",
    "lenguaje_concatenado = concatenacion(lenguaje_a, lenguaje_b)\n",
    "\n",
    "print(lenguaje_concatenado)\n"
   ]
  }
 ],
 "metadata": {
  "kernelspec": {
   "display_name": "Python 3",
   "language": "python",
   "name": "python3"
  },
  "language_info": {
   "codemirror_mode": {
    "name": "ipython",
    "version": 3
   },
   "file_extension": ".py",
   "mimetype": "text/x-python",
   "name": "python",
   "nbconvert_exporter": "python",
   "pygments_lexer": "ipython3",
   "version": "3.11.4"
  },
  "orig_nbformat": 4
 },
 "nbformat": 4,
 "nbformat_minor": 2
}
